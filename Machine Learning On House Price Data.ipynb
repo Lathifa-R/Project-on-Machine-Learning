{
 "cells": [
  {
   "cell_type": "markdown",
   "id": "823ac62e-e42f-4b35-961f-145ed7d27fea",
   "metadata": {},
   "source": [
    "# Machine learning on house price data to predict house prices"
   ]
  },
  {
   "cell_type": "raw",
   "id": "c3f9c704-73cd-4f6b-b46c-b37ab773eae4",
   "metadata": {},
   "source": [
    "We are going to perform the modelling on house price dataset, in this we have multiple parameters who can help us to predict the price of that specific house."
   ]
  },
  {
   "cell_type": "markdown",
   "id": "395f96ec-215b-4074-9cb4-2f9fc677e68c",
   "metadata": {},
   "source": [
    "## Import the required library"
   ]
  },
  {
   "cell_type": "code",
   "execution_count": 3,
   "id": "84f0d4fd-598a-4f19-8281-7346c2d7e579",
   "metadata": {},
   "outputs": [],
   "source": [
    "# import numerical python\n",
    "import numpy as np\n",
    "\n",
    "# import the pandas \n",
    "import pandas as pd\n",
    "\n",
    "# import the seaborn\n",
    "import seaborn as sns\n",
    "\n",
    "# import the matplotlib\n",
    "import matplotlib.pyplot as plt"
   ]
  },
  {
   "cell_type": "markdown",
   "id": "f15f71c5-d3dc-4640-972e-06ee8a72139b",
   "metadata": {},
   "source": [
    "### Data overview"
   ]
  },
  {
   "cell_type": "code",
   "execution_count": 5,
   "id": "b52fbffc-c820-455f-9855-bb2f66ec8e2c",
   "metadata": {},
   "outputs": [],
   "source": [
    "# load the data\n",
    "df_House_Price=pd.read_csv('House_Price1 (1).csv')"
   ]
  },
  {
   "cell_type": "code",
   "execution_count": 6,
   "id": "38197a83-1c51-42c9-8520-1f46aa3b28e6",
   "metadata": {},
   "outputs": [
    {
     "data": {
      "text/html": [
       "<div>\n",
       "<style scoped>\n",
       "    .dataframe tbody tr th:only-of-type {\n",
       "        vertical-align: middle;\n",
       "    }\n",
       "\n",
       "    .dataframe tbody tr th {\n",
       "        vertical-align: top;\n",
       "    }\n",
       "\n",
       "    .dataframe thead th {\n",
       "        text-align: right;\n",
       "    }\n",
       "</style>\n",
       "<table border=\"1\" class=\"dataframe\">\n",
       "  <thead>\n",
       "    <tr style=\"text-align: right;\">\n",
       "      <th></th>\n",
       "      <th>price</th>\n",
       "      <th>resid_area</th>\n",
       "      <th>air_qual</th>\n",
       "      <th>room_num</th>\n",
       "      <th>age</th>\n",
       "      <th>distance</th>\n",
       "      <th>teachers</th>\n",
       "      <th>poor_prop</th>\n",
       "      <th>airport</th>\n",
       "      <th>n_hos_beds</th>\n",
       "      <th>n_hot_rooms</th>\n",
       "      <th>waterbody</th>\n",
       "      <th>rainfall</th>\n",
       "      <th>bus_ter</th>\n",
       "      <th>Sold</th>\n",
       "    </tr>\n",
       "  </thead>\n",
       "  <tbody>\n",
       "    <tr>\n",
       "      <th>0</th>\n",
       "      <td>24.0</td>\n",
       "      <td>32.31</td>\n",
       "      <td>0.538</td>\n",
       "      <td>6.575</td>\n",
       "      <td>65.2</td>\n",
       "      <td>4.35</td>\n",
       "      <td>24.7</td>\n",
       "      <td>4.98</td>\n",
       "      <td>YES</td>\n",
       "      <td>5.480</td>\n",
       "      <td>11.1920</td>\n",
       "      <td>River</td>\n",
       "      <td>23</td>\n",
       "      <td>YES</td>\n",
       "      <td>0</td>\n",
       "    </tr>\n",
       "    <tr>\n",
       "      <th>1</th>\n",
       "      <td>21.6</td>\n",
       "      <td>37.07</td>\n",
       "      <td>0.469</td>\n",
       "      <td>6.421</td>\n",
       "      <td>78.9</td>\n",
       "      <td>4.99</td>\n",
       "      <td>22.2</td>\n",
       "      <td>9.14</td>\n",
       "      <td>NO</td>\n",
       "      <td>7.332</td>\n",
       "      <td>12.1728</td>\n",
       "      <td>Lake</td>\n",
       "      <td>42</td>\n",
       "      <td>YES</td>\n",
       "      <td>1</td>\n",
       "    </tr>\n",
       "    <tr>\n",
       "      <th>2</th>\n",
       "      <td>34.7</td>\n",
       "      <td>37.07</td>\n",
       "      <td>0.469</td>\n",
       "      <td>7.185</td>\n",
       "      <td>61.1</td>\n",
       "      <td>5.03</td>\n",
       "      <td>22.2</td>\n",
       "      <td>4.03</td>\n",
       "      <td>NO</td>\n",
       "      <td>7.394</td>\n",
       "      <td>101.1200</td>\n",
       "      <td>NaN</td>\n",
       "      <td>38</td>\n",
       "      <td>YES</td>\n",
       "      <td>0</td>\n",
       "    </tr>\n",
       "    <tr>\n",
       "      <th>3</th>\n",
       "      <td>33.4</td>\n",
       "      <td>32.18</td>\n",
       "      <td>0.458</td>\n",
       "      <td>6.998</td>\n",
       "      <td>45.8</td>\n",
       "      <td>6.21</td>\n",
       "      <td>21.3</td>\n",
       "      <td>2.94</td>\n",
       "      <td>YES</td>\n",
       "      <td>9.268</td>\n",
       "      <td>11.2672</td>\n",
       "      <td>Lake</td>\n",
       "      <td>45</td>\n",
       "      <td>YES</td>\n",
       "      <td>0</td>\n",
       "    </tr>\n",
       "    <tr>\n",
       "      <th>4</th>\n",
       "      <td>36.2</td>\n",
       "      <td>32.18</td>\n",
       "      <td>0.458</td>\n",
       "      <td>7.147</td>\n",
       "      <td>54.2</td>\n",
       "      <td>6.16</td>\n",
       "      <td>21.3</td>\n",
       "      <td>5.33</td>\n",
       "      <td>NO</td>\n",
       "      <td>8.824</td>\n",
       "      <td>11.2896</td>\n",
       "      <td>Lake</td>\n",
       "      <td>55</td>\n",
       "      <td>YES</td>\n",
       "      <td>0</td>\n",
       "    </tr>\n",
       "  </tbody>\n",
       "</table>\n",
       "</div>"
      ],
      "text/plain": [
       "   price  resid_area  air_qual  room_num   age  distance  teachers  poor_prop  \\\n",
       "0   24.0       32.31     0.538     6.575  65.2      4.35      24.7       4.98   \n",
       "1   21.6       37.07     0.469     6.421  78.9      4.99      22.2       9.14   \n",
       "2   34.7       37.07     0.469     7.185  61.1      5.03      22.2       4.03   \n",
       "3   33.4       32.18     0.458     6.998  45.8      6.21      21.3       2.94   \n",
       "4   36.2       32.18     0.458     7.147  54.2      6.16      21.3       5.33   \n",
       "\n",
       "  airport  n_hos_beds  n_hot_rooms waterbody  rainfall bus_ter  Sold  \n",
       "0     YES       5.480      11.1920     River        23     YES     0  \n",
       "1      NO       7.332      12.1728      Lake        42     YES     1  \n",
       "2      NO       7.394     101.1200       NaN        38     YES     0  \n",
       "3     YES       9.268      11.2672      Lake        45     YES     0  \n",
       "4      NO       8.824      11.2896      Lake        55     YES     0  "
      ]
     },
     "execution_count": 6,
     "metadata": {},
     "output_type": "execute_result"
    }
   ],
   "source": [
    "# show the first five observations of the data\n",
    "df_House_Price.head()"
   ]
  },
  {
   "cell_type": "code",
   "execution_count": 7,
   "id": "09c72267-2780-4d08-8a74-11745baa0dbf",
   "metadata": {},
   "outputs": [
    {
     "data": {
      "text/html": [
       "<div>\n",
       "<style scoped>\n",
       "    .dataframe tbody tr th:only-of-type {\n",
       "        vertical-align: middle;\n",
       "    }\n",
       "\n",
       "    .dataframe tbody tr th {\n",
       "        vertical-align: top;\n",
       "    }\n",
       "\n",
       "    .dataframe thead th {\n",
       "        text-align: right;\n",
       "    }\n",
       "</style>\n",
       "<table border=\"1\" class=\"dataframe\">\n",
       "  <thead>\n",
       "    <tr style=\"text-align: right;\">\n",
       "      <th></th>\n",
       "      <th>price</th>\n",
       "      <th>resid_area</th>\n",
       "      <th>air_qual</th>\n",
       "      <th>room_num</th>\n",
       "      <th>age</th>\n",
       "      <th>distance</th>\n",
       "      <th>teachers</th>\n",
       "      <th>poor_prop</th>\n",
       "      <th>airport</th>\n",
       "      <th>n_hos_beds</th>\n",
       "      <th>n_hot_rooms</th>\n",
       "      <th>waterbody</th>\n",
       "      <th>rainfall</th>\n",
       "      <th>bus_ter</th>\n",
       "      <th>Sold</th>\n",
       "    </tr>\n",
       "  </thead>\n",
       "  <tbody>\n",
       "    <tr>\n",
       "      <th>501</th>\n",
       "      <td>22.4</td>\n",
       "      <td>41.93</td>\n",
       "      <td>0.573</td>\n",
       "      <td>6.593</td>\n",
       "      <td>69.1</td>\n",
       "      <td>2.64</td>\n",
       "      <td>19.0</td>\n",
       "      <td>9.67</td>\n",
       "      <td>NO</td>\n",
       "      <td>9.348</td>\n",
       "      <td>12.1792</td>\n",
       "      <td>Lake and River</td>\n",
       "      <td>27</td>\n",
       "      <td>YES</td>\n",
       "      <td>1</td>\n",
       "    </tr>\n",
       "    <tr>\n",
       "      <th>502</th>\n",
       "      <td>20.6</td>\n",
       "      <td>41.93</td>\n",
       "      <td>0.573</td>\n",
       "      <td>6.120</td>\n",
       "      <td>76.7</td>\n",
       "      <td>2.44</td>\n",
       "      <td>19.0</td>\n",
       "      <td>9.08</td>\n",
       "      <td>YES</td>\n",
       "      <td>6.612</td>\n",
       "      <td>13.1648</td>\n",
       "      <td>Lake and River</td>\n",
       "      <td>20</td>\n",
       "      <td>YES</td>\n",
       "      <td>1</td>\n",
       "    </tr>\n",
       "    <tr>\n",
       "      <th>503</th>\n",
       "      <td>23.9</td>\n",
       "      <td>41.93</td>\n",
       "      <td>0.573</td>\n",
       "      <td>6.976</td>\n",
       "      <td>91.0</td>\n",
       "      <td>2.34</td>\n",
       "      <td>19.0</td>\n",
       "      <td>5.64</td>\n",
       "      <td>NO</td>\n",
       "      <td>5.478</td>\n",
       "      <td>12.1912</td>\n",
       "      <td>NaN</td>\n",
       "      <td>31</td>\n",
       "      <td>YES</td>\n",
       "      <td>1</td>\n",
       "    </tr>\n",
       "    <tr>\n",
       "      <th>504</th>\n",
       "      <td>22.0</td>\n",
       "      <td>41.93</td>\n",
       "      <td>0.573</td>\n",
       "      <td>6.794</td>\n",
       "      <td>89.3</td>\n",
       "      <td>2.54</td>\n",
       "      <td>19.0</td>\n",
       "      <td>6.48</td>\n",
       "      <td>YES</td>\n",
       "      <td>7.940</td>\n",
       "      <td>15.1760</td>\n",
       "      <td>NaN</td>\n",
       "      <td>47</td>\n",
       "      <td>YES</td>\n",
       "      <td>1</td>\n",
       "    </tr>\n",
       "    <tr>\n",
       "      <th>505</th>\n",
       "      <td>19.0</td>\n",
       "      <td>41.93</td>\n",
       "      <td>0.573</td>\n",
       "      <td>6.030</td>\n",
       "      <td>80.8</td>\n",
       "      <td>2.72</td>\n",
       "      <td>19.0</td>\n",
       "      <td>7.88</td>\n",
       "      <td>YES</td>\n",
       "      <td>10.280</td>\n",
       "      <td>10.1520</td>\n",
       "      <td>NaN</td>\n",
       "      <td>45</td>\n",
       "      <td>YES</td>\n",
       "      <td>1</td>\n",
       "    </tr>\n",
       "  </tbody>\n",
       "</table>\n",
       "</div>"
      ],
      "text/plain": [
       "     price  resid_area  air_qual  room_num   age  distance  teachers  \\\n",
       "501   22.4       41.93     0.573     6.593  69.1      2.64      19.0   \n",
       "502   20.6       41.93     0.573     6.120  76.7      2.44      19.0   \n",
       "503   23.9       41.93     0.573     6.976  91.0      2.34      19.0   \n",
       "504   22.0       41.93     0.573     6.794  89.3      2.54      19.0   \n",
       "505   19.0       41.93     0.573     6.030  80.8      2.72      19.0   \n",
       "\n",
       "     poor_prop airport  n_hos_beds  n_hot_rooms       waterbody  rainfall  \\\n",
       "501       9.67      NO       9.348      12.1792  Lake and River        27   \n",
       "502       9.08     YES       6.612      13.1648  Lake and River        20   \n",
       "503       5.64      NO       5.478      12.1912             NaN        31   \n",
       "504       6.48     YES       7.940      15.1760             NaN        47   \n",
       "505       7.88     YES      10.280      10.1520             NaN        45   \n",
       "\n",
       "    bus_ter  Sold  \n",
       "501     YES     1  \n",
       "502     YES     1  \n",
       "503     YES     1  \n",
       "504     YES     1  \n",
       "505     YES     1  "
      ]
     },
     "execution_count": 7,
     "metadata": {},
     "output_type": "execute_result"
    }
   ],
   "source": [
    "# show the last five observations of the data\n",
    "df_House_Price.tail()"
   ]
  },
  {
   "cell_type": "code",
   "execution_count": 8,
   "id": "110b5ac3-c6fd-4482-9851-65ed6ca6c5cd",
   "metadata": {},
   "outputs": [
    {
     "data": {
      "text/plain": [
       "(506, 15)"
      ]
     },
     "execution_count": 8,
     "metadata": {},
     "output_type": "execute_result"
    }
   ],
   "source": [
    "# show the shape of the data\n",
    "df_House_Price.shape"
   ]
  },
  {
   "cell_type": "code",
   "execution_count": 9,
   "id": "f7d8b818-59af-4cc7-9ec5-1698650410cb",
   "metadata": {},
   "outputs": [
    {
     "data": {
      "text/html": [
       "<div>\n",
       "<style scoped>\n",
       "    .dataframe tbody tr th:only-of-type {\n",
       "        vertical-align: middle;\n",
       "    }\n",
       "\n",
       "    .dataframe tbody tr th {\n",
       "        vertical-align: top;\n",
       "    }\n",
       "\n",
       "    .dataframe thead th {\n",
       "        text-align: right;\n",
       "    }\n",
       "</style>\n",
       "<table border=\"1\" class=\"dataframe\">\n",
       "  <thead>\n",
       "    <tr style=\"text-align: right;\">\n",
       "      <th></th>\n",
       "      <th>price</th>\n",
       "      <th>resid_area</th>\n",
       "      <th>air_qual</th>\n",
       "      <th>room_num</th>\n",
       "      <th>age</th>\n",
       "      <th>distance</th>\n",
       "      <th>teachers</th>\n",
       "      <th>poor_prop</th>\n",
       "      <th>n_hos_beds</th>\n",
       "      <th>n_hot_rooms</th>\n",
       "      <th>rainfall</th>\n",
       "      <th>Sold</th>\n",
       "    </tr>\n",
       "  </thead>\n",
       "  <tbody>\n",
       "    <tr>\n",
       "      <th>count</th>\n",
       "      <td>506.000000</td>\n",
       "      <td>506.000000</td>\n",
       "      <td>506.000000</td>\n",
       "      <td>506.000000</td>\n",
       "      <td>506.000000</td>\n",
       "      <td>506.000000</td>\n",
       "      <td>506.000000</td>\n",
       "      <td>506.000000</td>\n",
       "      <td>498.000000</td>\n",
       "      <td>506.000000</td>\n",
       "      <td>506.000000</td>\n",
       "      <td>506.000000</td>\n",
       "    </tr>\n",
       "    <tr>\n",
       "      <th>mean</th>\n",
       "      <td>22.528854</td>\n",
       "      <td>41.136779</td>\n",
       "      <td>0.554695</td>\n",
       "      <td>6.284634</td>\n",
       "      <td>68.574901</td>\n",
       "      <td>3.971996</td>\n",
       "      <td>21.544466</td>\n",
       "      <td>12.653063</td>\n",
       "      <td>7.899767</td>\n",
       "      <td>13.041605</td>\n",
       "      <td>39.181818</td>\n",
       "      <td>0.454545</td>\n",
       "    </tr>\n",
       "    <tr>\n",
       "      <th>std</th>\n",
       "      <td>9.182176</td>\n",
       "      <td>6.860353</td>\n",
       "      <td>0.115878</td>\n",
       "      <td>0.702617</td>\n",
       "      <td>28.148861</td>\n",
       "      <td>2.108532</td>\n",
       "      <td>2.164946</td>\n",
       "      <td>7.141062</td>\n",
       "      <td>1.476683</td>\n",
       "      <td>5.238957</td>\n",
       "      <td>12.513697</td>\n",
       "      <td>0.498422</td>\n",
       "    </tr>\n",
       "    <tr>\n",
       "      <th>min</th>\n",
       "      <td>5.000000</td>\n",
       "      <td>30.460000</td>\n",
       "      <td>0.385000</td>\n",
       "      <td>3.561000</td>\n",
       "      <td>2.900000</td>\n",
       "      <td>1.130000</td>\n",
       "      <td>18.000000</td>\n",
       "      <td>1.730000</td>\n",
       "      <td>5.268000</td>\n",
       "      <td>10.057600</td>\n",
       "      <td>3.000000</td>\n",
       "      <td>0.000000</td>\n",
       "    </tr>\n",
       "    <tr>\n",
       "      <th>25%</th>\n",
       "      <td>17.025000</td>\n",
       "      <td>35.190000</td>\n",
       "      <td>0.449000</td>\n",
       "      <td>5.885500</td>\n",
       "      <td>45.025000</td>\n",
       "      <td>2.270000</td>\n",
       "      <td>19.800000</td>\n",
       "      <td>6.950000</td>\n",
       "      <td>6.634500</td>\n",
       "      <td>11.189800</td>\n",
       "      <td>28.000000</td>\n",
       "      <td>0.000000</td>\n",
       "    </tr>\n",
       "    <tr>\n",
       "      <th>50%</th>\n",
       "      <td>21.200000</td>\n",
       "      <td>39.690000</td>\n",
       "      <td>0.538000</td>\n",
       "      <td>6.208500</td>\n",
       "      <td>77.500000</td>\n",
       "      <td>3.385000</td>\n",
       "      <td>20.950000</td>\n",
       "      <td>11.360000</td>\n",
       "      <td>7.999000</td>\n",
       "      <td>12.720000</td>\n",
       "      <td>39.000000</td>\n",
       "      <td>0.000000</td>\n",
       "    </tr>\n",
       "    <tr>\n",
       "      <th>75%</th>\n",
       "      <td>25.000000</td>\n",
       "      <td>48.100000</td>\n",
       "      <td>0.624000</td>\n",
       "      <td>6.623500</td>\n",
       "      <td>94.075000</td>\n",
       "      <td>5.367500</td>\n",
       "      <td>22.600000</td>\n",
       "      <td>16.955000</td>\n",
       "      <td>9.088000</td>\n",
       "      <td>14.170800</td>\n",
       "      <td>50.000000</td>\n",
       "      <td>1.000000</td>\n",
       "    </tr>\n",
       "    <tr>\n",
       "      <th>max</th>\n",
       "      <td>50.000000</td>\n",
       "      <td>57.740000</td>\n",
       "      <td>0.871000</td>\n",
       "      <td>8.780000</td>\n",
       "      <td>100.000000</td>\n",
       "      <td>12.320000</td>\n",
       "      <td>27.400000</td>\n",
       "      <td>37.970000</td>\n",
       "      <td>10.876000</td>\n",
       "      <td>101.120000</td>\n",
       "      <td>60.000000</td>\n",
       "      <td>1.000000</td>\n",
       "    </tr>\n",
       "  </tbody>\n",
       "</table>\n",
       "</div>"
      ],
      "text/plain": [
       "            price  resid_area    air_qual    room_num         age    distance  \\\n",
       "count  506.000000  506.000000  506.000000  506.000000  506.000000  506.000000   \n",
       "mean    22.528854   41.136779    0.554695    6.284634   68.574901    3.971996   \n",
       "std      9.182176    6.860353    0.115878    0.702617   28.148861    2.108532   \n",
       "min      5.000000   30.460000    0.385000    3.561000    2.900000    1.130000   \n",
       "25%     17.025000   35.190000    0.449000    5.885500   45.025000    2.270000   \n",
       "50%     21.200000   39.690000    0.538000    6.208500   77.500000    3.385000   \n",
       "75%     25.000000   48.100000    0.624000    6.623500   94.075000    5.367500   \n",
       "max     50.000000   57.740000    0.871000    8.780000  100.000000   12.320000   \n",
       "\n",
       "         teachers   poor_prop  n_hos_beds  n_hot_rooms    rainfall        Sold  \n",
       "count  506.000000  506.000000  498.000000   506.000000  506.000000  506.000000  \n",
       "mean    21.544466   12.653063    7.899767    13.041605   39.181818    0.454545  \n",
       "std      2.164946    7.141062    1.476683     5.238957   12.513697    0.498422  \n",
       "min     18.000000    1.730000    5.268000    10.057600    3.000000    0.000000  \n",
       "25%     19.800000    6.950000    6.634500    11.189800   28.000000    0.000000  \n",
       "50%     20.950000   11.360000    7.999000    12.720000   39.000000    0.000000  \n",
       "75%     22.600000   16.955000    9.088000    14.170800   50.000000    1.000000  \n",
       "max     27.400000   37.970000   10.876000   101.120000   60.000000    1.000000  "
      ]
     },
     "execution_count": 9,
     "metadata": {},
     "output_type": "execute_result"
    }
   ],
   "source": [
    "# show the basic statistics of the data\n",
    "df_House_Price.describe()"
   ]
  },
  {
   "cell_type": "code",
   "execution_count": 10,
   "id": "39fd1d18-1bb7-468a-829b-e9ac2398aebb",
   "metadata": {},
   "outputs": [
    {
     "name": "stdout",
     "output_type": "stream",
     "text": [
      "<class 'pandas.core.frame.DataFrame'>\n",
      "RangeIndex: 506 entries, 0 to 505\n",
      "Data columns (total 15 columns):\n",
      " #   Column       Non-Null Count  Dtype  \n",
      "---  ------       --------------  -----  \n",
      " 0   price        506 non-null    float64\n",
      " 1   resid_area   506 non-null    float64\n",
      " 2   air_qual     506 non-null    float64\n",
      " 3   room_num     506 non-null    float64\n",
      " 4   age          506 non-null    float64\n",
      " 5   distance     506 non-null    float64\n",
      " 6   teachers     506 non-null    float64\n",
      " 7   poor_prop    506 non-null    float64\n",
      " 8   airport      506 non-null    object \n",
      " 9   n_hos_beds   498 non-null    float64\n",
      " 10  n_hot_rooms  506 non-null    float64\n",
      " 11  waterbody    351 non-null    object \n",
      " 12  rainfall     506 non-null    int64  \n",
      " 13  bus_ter      506 non-null    object \n",
      " 14  Sold         506 non-null    int64  \n",
      "dtypes: float64(10), int64(2), object(3)\n",
      "memory usage: 59.4+ KB\n"
     ]
    }
   ],
   "source": [
    "# show the basic information of the data\n",
    "df_House_Price.info()"
   ]
  },
  {
   "cell_type": "raw",
   "id": "a1cb5f30-6d8c-4852-89b5-b9c27e45df23",
   "metadata": {},
   "source": [
    "# interpretation\n",
    "\n",
    " - we have 506 observations and 15 attributes\n",
    " - we have age column which contains the outlier"
   ]
  },
  {
   "cell_type": "markdown",
   "id": "cebfde97-a657-49b3-a407-1a4ce54fdd2b",
   "metadata": {},
   "source": [
    "## Data pre processing"
   ]
  },
  {
   "cell_type": "code",
   "execution_count": 12,
   "id": "4706b0e3-69b3-4321-96e3-b108c92a8fae",
   "metadata": {},
   "outputs": [
    {
     "data": {
      "text/plain": [
       "Index(['price', 'resid_area', 'air_qual', 'room_num', 'age', 'distance',\n",
       "       'teachers', 'poor_prop', 'airport', 'n_hos_beds', 'n_hot_rooms',\n",
       "       'waterbody', 'rainfall', 'bus_ter', 'Sold'],\n",
       "      dtype='object')"
      ]
     },
     "execution_count": 12,
     "metadata": {},
     "output_type": "execute_result"
    }
   ],
   "source": [
    "# list perform the data cleaning\n",
    "df_House_Price.columns"
   ]
  },
  {
   "cell_type": "code",
   "execution_count": 13,
   "id": "d361712f-87ab-4d29-8b60-9a4f8189c1a9",
   "metadata": {},
   "outputs": [],
   "source": [
    "dictionary={\n",
    "    'price':'Price',\n",
    "    'resid_area':'Residential_Area',\n",
    "    'air_qual':'Air_Quality',\n",
    "    'room_num':'Room_Number',\n",
    "    'age':'Age',\n",
    "    'distance':'Distance',\n",
    "    'teachers':'Teachers',\n",
    "    'poor_prop':'Poor_Property',\n",
    "    'airport':'Airport',\n",
    "    'n_hos_beds':'N_hospital_Beds',\n",
    "    'n_hot_rooms':'N_Hotel_Rooms',\n",
    "    'waterbody':'Waterbody',\n",
    "    'rainfall':'Rainfall',\n",
    "    'bus_ter':'Bus_Ter',\n",
    "    'Sold':'Sold'\n",
    "}"
   ]
  },
  {
   "cell_type": "code",
   "execution_count": 14,
   "id": "9fef220c-0e89-472d-9bdc-b689b27b3798",
   "metadata": {},
   "outputs": [],
   "source": [
    "# perform the rename action\n",
    "df_House_Price=df_House_Price.rename(columns=dictionary)"
   ]
  },
  {
   "cell_type": "code",
   "execution_count": 15,
   "id": "4014468e-a4c5-4b89-9b60-9624bd0066d2",
   "metadata": {},
   "outputs": [
    {
     "data": {
      "text/plain": [
       "Index(['Price', 'Residential_Area', 'Air_Quality', 'Room_Number', 'Age',\n",
       "       'Distance', 'Teachers', 'Poor_Property', 'Airport', 'N_hospital_Beds',\n",
       "       'N_Hotel_Rooms', 'Waterbody', 'Rainfall', 'Bus_Ter', 'Sold'],\n",
       "      dtype='object')"
      ]
     },
     "execution_count": 15,
     "metadata": {},
     "output_type": "execute_result"
    }
   ],
   "source": [
    "# do the authentic check\n",
    "df_House_Price.columns"
   ]
  },
  {
   "cell_type": "markdown",
   "id": "71a0936e-d760-4e77-9af5-d26a723c2c65",
   "metadata": {},
   "source": [
    "### Null value handling"
   ]
  },
  {
   "cell_type": "code",
   "execution_count": 17,
   "id": "a3dccd0a-d4dd-465c-953c-ce768f026e2d",
   "metadata": {},
   "outputs": [
    {
     "data": {
      "text/plain": [
       "Price                 0\n",
       "Residential_Area      0\n",
       "Air_Quality           0\n",
       "Room_Number           0\n",
       "Age                   0\n",
       "Distance              0\n",
       "Teachers              0\n",
       "Poor_Property         0\n",
       "Airport               0\n",
       "N_hospital_Beds       8\n",
       "N_Hotel_Rooms         0\n",
       "Waterbody           155\n",
       "Rainfall              0\n",
       "Bus_Ter               0\n",
       "Sold                  0\n",
       "dtype: int64"
      ]
     },
     "execution_count": 17,
     "metadata": {},
     "output_type": "execute_result"
    }
   ],
   "source": [
    "# find the no of missing records\n",
    "df_House_Price.isnull().sum()"
   ]
  },
  {
   "cell_type": "code",
   "execution_count": 18,
   "id": "9bf64105-739e-47fc-8e28-27914b56893b",
   "metadata": {},
   "outputs": [
    {
     "data": {
      "text/plain": [
       "Price                0.000000\n",
       "Residential_Area     0.000000\n",
       "Air_Quality          0.000000\n",
       "Room_Number          0.000000\n",
       "Age                  0.000000\n",
       "Distance             0.000000\n",
       "Teachers             0.000000\n",
       "Poor_Property        0.000000\n",
       "Airport              0.000000\n",
       "N_hospital_Beds      1.581028\n",
       "N_Hotel_Rooms        0.000000\n",
       "Waterbody           30.632411\n",
       "Rainfall             0.000000\n",
       "Bus_Ter              0.000000\n",
       "Sold                 0.000000\n",
       "dtype: float64"
      ]
     },
     "execution_count": 18,
     "metadata": {},
     "output_type": "execute_result"
    }
   ],
   "source": [
    "# find the percentage\n",
    "df_House_Price.isnull().sum()/len(df_House_Price)*100"
   ]
  },
  {
   "cell_type": "code",
   "execution_count": 33,
   "id": "3ecaa24c-6524-4a90-8a56-7dc15296f695",
   "metadata": {},
   "outputs": [
    {
     "data": {
      "text/plain": [
       "0    River\n",
       "Name: Waterbody, dtype: object"
      ]
     },
     "execution_count": 33,
     "metadata": {},
     "output_type": "execute_result"
    }
   ],
   "source": [
    "# find the mode of waterbody column\n",
    "df_House_Price.Waterbody.mode()"
   ]
  },
  {
   "cell_type": "code",
   "execution_count": 51,
   "id": "68f28888-ae15-482c-b674-b66ee970cb3b",
   "metadata": {},
   "outputs": [],
   "source": [
    "# lets treat the null value in waterbody column\n",
    "df_House_Price.Waterbody=df_House_Price.Waterbody.fillna('River',inplace=True)"
   ]
  },
  {
   "cell_type": "code",
   "execution_count": 37,
   "id": "e5e2dffc-aab4-4f21-9a0b-8e5cd5b32e1c",
   "metadata": {},
   "outputs": [
    {
     "data": {
      "text/plain": [
       "Price               0\n",
       "Residential_Area    0\n",
       "Air_Quality         0\n",
       "Room_Number         0\n",
       "Age                 0\n",
       "Distance            0\n",
       "Teachers            0\n",
       "Poor_Property       0\n",
       "Airport             0\n",
       "N_hospital_Beds     8\n",
       "N_Hotel_Rooms       0\n",
       "Waterbody           0\n",
       "Rainfall            0\n",
       "Bus_Ter             0\n",
       "Sold                0\n",
       "dtype: int64"
      ]
     },
     "execution_count": 37,
     "metadata": {},
     "output_type": "execute_result"
    }
   ],
   "source": [
    "# do the authentic check\n",
    "df_House_Price.isnull().sum()"
   ]
  },
  {
   "cell_type": "code",
   "execution_count": 39,
   "id": "1150719e-7ec4-47d0-9d1b-6192e404d798",
   "metadata": {},
   "outputs": [],
   "source": [
    "# in N_Hospital_Beds we have less than 10% data is missing\n",
    "df_House_Price.dropna(inplace=True)"
   ]
  },
  {
   "cell_type": "code",
   "execution_count": 41,
   "id": "96b3bc9b-66d3-4f08-b932-3b3294862b16",
   "metadata": {},
   "outputs": [
    {
     "data": {
      "text/plain": [
       "Price               0\n",
       "Residential_Area    0\n",
       "Air_Quality         0\n",
       "Room_Number         0\n",
       "Age                 0\n",
       "Distance            0\n",
       "Teachers            0\n",
       "Poor_Property       0\n",
       "Airport             0\n",
       "N_hospital_Beds     0\n",
       "N_Hotel_Rooms       0\n",
       "Waterbody           0\n",
       "Rainfall            0\n",
       "Bus_Ter             0\n",
       "Sold                0\n",
       "dtype: int64"
      ]
     },
     "execution_count": 41,
     "metadata": {},
     "output_type": "execute_result"
    }
   ],
   "source": [
    "# do the authentic check\n",
    "df_House_Price.isnull().sum()"
   ]
  },
  {
   "cell_type": "code",
   "execution_count": 43,
   "id": "ef491a09-57be-4426-8b31-444bf30f764a",
   "metadata": {},
   "outputs": [],
   "source": [
    "df_target=df_House_Price['Age']\n",
    "df_feature=df_House_Price.drop('Age',axis=1)"
   ]
  },
  {
   "cell_type": "code",
   "execution_count": 45,
   "id": "be47c73a-f70d-486c-a11d-01c69c3038b6",
   "metadata": {},
   "outputs": [],
   "source": [
    "# segregate the data based on the datatype\n",
    "df_num=df_House_Price.select_dtypes(include='number')\n",
    "df_cat=df_House_Price.select_dtypes(include='object')"
   ]
  },
  {
   "cell_type": "code",
   "execution_count": 47,
   "id": "22f25aa0-3639-4742-b12a-1dc47d3dd6ce",
   "metadata": {},
   "outputs": [
    {
     "data": {
      "text/html": [
       "<div>\n",
       "<style scoped>\n",
       "    .dataframe tbody tr th:only-of-type {\n",
       "        vertical-align: middle;\n",
       "    }\n",
       "\n",
       "    .dataframe tbody tr th {\n",
       "        vertical-align: top;\n",
       "    }\n",
       "\n",
       "    .dataframe thead th {\n",
       "        text-align: right;\n",
       "    }\n",
       "</style>\n",
       "<table border=\"1\" class=\"dataframe\">\n",
       "  <thead>\n",
       "    <tr style=\"text-align: right;\">\n",
       "      <th></th>\n",
       "      <th>Price</th>\n",
       "      <th>Residential_Area</th>\n",
       "      <th>Air_Quality</th>\n",
       "      <th>Room_Number</th>\n",
       "      <th>Age</th>\n",
       "      <th>Distance</th>\n",
       "      <th>Teachers</th>\n",
       "      <th>Poor_Property</th>\n",
       "      <th>N_hospital_Beds</th>\n",
       "      <th>N_Hotel_Rooms</th>\n",
       "      <th>Rainfall</th>\n",
       "      <th>Sold</th>\n",
       "    </tr>\n",
       "  </thead>\n",
       "  <tbody>\n",
       "    <tr>\n",
       "      <th>0</th>\n",
       "      <td>24.0</td>\n",
       "      <td>32.31</td>\n",
       "      <td>0.538</td>\n",
       "      <td>6.575</td>\n",
       "      <td>65.2</td>\n",
       "      <td>4.35</td>\n",
       "      <td>24.7</td>\n",
       "      <td>4.98</td>\n",
       "      <td>5.480</td>\n",
       "      <td>11.1920</td>\n",
       "      <td>23</td>\n",
       "      <td>0</td>\n",
       "    </tr>\n",
       "    <tr>\n",
       "      <th>1</th>\n",
       "      <td>21.6</td>\n",
       "      <td>37.07</td>\n",
       "      <td>0.469</td>\n",
       "      <td>6.421</td>\n",
       "      <td>78.9</td>\n",
       "      <td>4.99</td>\n",
       "      <td>22.2</td>\n",
       "      <td>9.14</td>\n",
       "      <td>7.332</td>\n",
       "      <td>12.1728</td>\n",
       "      <td>42</td>\n",
       "      <td>1</td>\n",
       "    </tr>\n",
       "    <tr>\n",
       "      <th>2</th>\n",
       "      <td>34.7</td>\n",
       "      <td>37.07</td>\n",
       "      <td>0.469</td>\n",
       "      <td>7.185</td>\n",
       "      <td>61.1</td>\n",
       "      <td>5.03</td>\n",
       "      <td>22.2</td>\n",
       "      <td>4.03</td>\n",
       "      <td>7.394</td>\n",
       "      <td>101.1200</td>\n",
       "      <td>38</td>\n",
       "      <td>0</td>\n",
       "    </tr>\n",
       "    <tr>\n",
       "      <th>3</th>\n",
       "      <td>33.4</td>\n",
       "      <td>32.18</td>\n",
       "      <td>0.458</td>\n",
       "      <td>6.998</td>\n",
       "      <td>45.8</td>\n",
       "      <td>6.21</td>\n",
       "      <td>21.3</td>\n",
       "      <td>2.94</td>\n",
       "      <td>9.268</td>\n",
       "      <td>11.2672</td>\n",
       "      <td>45</td>\n",
       "      <td>0</td>\n",
       "    </tr>\n",
       "    <tr>\n",
       "      <th>4</th>\n",
       "      <td>36.2</td>\n",
       "      <td>32.18</td>\n",
       "      <td>0.458</td>\n",
       "      <td>7.147</td>\n",
       "      <td>54.2</td>\n",
       "      <td>6.16</td>\n",
       "      <td>21.3</td>\n",
       "      <td>5.33</td>\n",
       "      <td>8.824</td>\n",
       "      <td>11.2896</td>\n",
       "      <td>55</td>\n",
       "      <td>0</td>\n",
       "    </tr>\n",
       "  </tbody>\n",
       "</table>\n",
       "</div>"
      ],
      "text/plain": [
       "   Price  Residential_Area  Air_Quality  Room_Number   Age  Distance  \\\n",
       "0   24.0             32.31        0.538        6.575  65.2      4.35   \n",
       "1   21.6             37.07        0.469        6.421  78.9      4.99   \n",
       "2   34.7             37.07        0.469        7.185  61.1      5.03   \n",
       "3   33.4             32.18        0.458        6.998  45.8      6.21   \n",
       "4   36.2             32.18        0.458        7.147  54.2      6.16   \n",
       "\n",
       "   Teachers  Poor_Property  N_hospital_Beds  N_Hotel_Rooms  Rainfall  Sold  \n",
       "0      24.7           4.98            5.480        11.1920        23     0  \n",
       "1      22.2           9.14            7.332        12.1728        42     1  \n",
       "2      22.2           4.03            7.394       101.1200        38     0  \n",
       "3      21.3           2.94            9.268        11.2672        45     0  \n",
       "4      21.3           5.33            8.824        11.2896        55     0  "
      ]
     },
     "execution_count": 47,
     "metadata": {},
     "output_type": "execute_result"
    }
   ],
   "source": [
    "# show the numerical data\n",
    "df_num.head()"
   ]
  },
  {
   "cell_type": "code",
   "execution_count": 49,
   "id": "00d43e98-5d29-4c91-a9e7-bfe087b5ae05",
   "metadata": {},
   "outputs": [
    {
     "data": {
      "text/html": [
       "<div>\n",
       "<style scoped>\n",
       "    .dataframe tbody tr th:only-of-type {\n",
       "        vertical-align: middle;\n",
       "    }\n",
       "\n",
       "    .dataframe tbody tr th {\n",
       "        vertical-align: top;\n",
       "    }\n",
       "\n",
       "    .dataframe thead th {\n",
       "        text-align: right;\n",
       "    }\n",
       "</style>\n",
       "<table border=\"1\" class=\"dataframe\">\n",
       "  <thead>\n",
       "    <tr style=\"text-align: right;\">\n",
       "      <th></th>\n",
       "      <th>Airport</th>\n",
       "      <th>Waterbody</th>\n",
       "      <th>Bus_Ter</th>\n",
       "    </tr>\n",
       "  </thead>\n",
       "  <tbody>\n",
       "    <tr>\n",
       "      <th>0</th>\n",
       "      <td>YES</td>\n",
       "      <td>River</td>\n",
       "      <td>YES</td>\n",
       "    </tr>\n",
       "    <tr>\n",
       "      <th>1</th>\n",
       "      <td>NO</td>\n",
       "      <td>Lake</td>\n",
       "      <td>YES</td>\n",
       "    </tr>\n",
       "    <tr>\n",
       "      <th>2</th>\n",
       "      <td>NO</td>\n",
       "      <td>River</td>\n",
       "      <td>YES</td>\n",
       "    </tr>\n",
       "    <tr>\n",
       "      <th>3</th>\n",
       "      <td>YES</td>\n",
       "      <td>Lake</td>\n",
       "      <td>YES</td>\n",
       "    </tr>\n",
       "    <tr>\n",
       "      <th>4</th>\n",
       "      <td>NO</td>\n",
       "      <td>Lake</td>\n",
       "      <td>YES</td>\n",
       "    </tr>\n",
       "  </tbody>\n",
       "</table>\n",
       "</div>"
      ],
      "text/plain": [
       "  Airport Waterbody Bus_Ter\n",
       "0     YES     River     YES\n",
       "1      NO      Lake     YES\n",
       "2      NO     River     YES\n",
       "3     YES      Lake     YES\n",
       "4      NO      Lake     YES"
      ]
     },
     "execution_count": 49,
     "metadata": {},
     "output_type": "execute_result"
    }
   ],
   "source": [
    "# show the categorical data\n",
    "df_cat.head()"
   ]
  },
  {
   "cell_type": "markdown",
   "id": "1c2c483d-638f-4869-8c2e-3dbeb005c317",
   "metadata": {},
   "source": [
    "### perform encoding on categorical variable"
   ]
  },
  {
   "cell_type": "code",
   "execution_count": 56,
   "id": "343d9354-3062-4285-b84d-e2d759e56563",
   "metadata": {},
   "outputs": [],
   "source": [
    "# use dummy encoding\n",
    "df_encoded=pd.get_dummies(df_cat)\n",
    "# reset the index\n",
    "df_encoded=df_encoded.reset_index()"
   ]
  },
  {
   "cell_type": "code",
   "execution_count": 58,
   "id": "ebb6abb0-391d-4ee4-b939-7670552742af",
   "metadata": {},
   "outputs": [
    {
     "data": {
      "text/html": [
       "<div>\n",
       "<style scoped>\n",
       "    .dataframe tbody tr th:only-of-type {\n",
       "        vertical-align: middle;\n",
       "    }\n",
       "\n",
       "    .dataframe tbody tr th {\n",
       "        vertical-align: top;\n",
       "    }\n",
       "\n",
       "    .dataframe thead th {\n",
       "        text-align: right;\n",
       "    }\n",
       "</style>\n",
       "<table border=\"1\" class=\"dataframe\">\n",
       "  <thead>\n",
       "    <tr style=\"text-align: right;\">\n",
       "      <th></th>\n",
       "      <th>index</th>\n",
       "      <th>Airport_NO</th>\n",
       "      <th>Airport_YES</th>\n",
       "      <th>Waterbody_Lake</th>\n",
       "      <th>Waterbody_Lake and River</th>\n",
       "      <th>Waterbody_River</th>\n",
       "      <th>Bus_Ter_YES</th>\n",
       "    </tr>\n",
       "  </thead>\n",
       "  <tbody>\n",
       "    <tr>\n",
       "      <th>0</th>\n",
       "      <td>0</td>\n",
       "      <td>False</td>\n",
       "      <td>True</td>\n",
       "      <td>False</td>\n",
       "      <td>False</td>\n",
       "      <td>True</td>\n",
       "      <td>True</td>\n",
       "    </tr>\n",
       "    <tr>\n",
       "      <th>1</th>\n",
       "      <td>1</td>\n",
       "      <td>True</td>\n",
       "      <td>False</td>\n",
       "      <td>True</td>\n",
       "      <td>False</td>\n",
       "      <td>False</td>\n",
       "      <td>True</td>\n",
       "    </tr>\n",
       "    <tr>\n",
       "      <th>2</th>\n",
       "      <td>2</td>\n",
       "      <td>True</td>\n",
       "      <td>False</td>\n",
       "      <td>False</td>\n",
       "      <td>False</td>\n",
       "      <td>True</td>\n",
       "      <td>True</td>\n",
       "    </tr>\n",
       "    <tr>\n",
       "      <th>3</th>\n",
       "      <td>3</td>\n",
       "      <td>False</td>\n",
       "      <td>True</td>\n",
       "      <td>True</td>\n",
       "      <td>False</td>\n",
       "      <td>False</td>\n",
       "      <td>True</td>\n",
       "    </tr>\n",
       "    <tr>\n",
       "      <th>4</th>\n",
       "      <td>4</td>\n",
       "      <td>True</td>\n",
       "      <td>False</td>\n",
       "      <td>True</td>\n",
       "      <td>False</td>\n",
       "      <td>False</td>\n",
       "      <td>True</td>\n",
       "    </tr>\n",
       "  </tbody>\n",
       "</table>\n",
       "</div>"
      ],
      "text/plain": [
       "   index  Airport_NO  Airport_YES  Waterbody_Lake  Waterbody_Lake and River  \\\n",
       "0      0       False         True           False                     False   \n",
       "1      1        True        False            True                     False   \n",
       "2      2        True        False           False                     False   \n",
       "3      3       False         True            True                     False   \n",
       "4      4        True        False            True                     False   \n",
       "\n",
       "   Waterbody_River  Bus_Ter_YES  \n",
       "0             True         True  \n",
       "1            False         True  \n",
       "2             True         True  \n",
       "3            False         True  \n",
       "4            False         True  "
      ]
     },
     "execution_count": 58,
     "metadata": {},
     "output_type": "execute_result"
    }
   ],
   "source": [
    "# show the encoded data\n",
    "df_encoded.head()"
   ]
  },
  {
   "cell_type": "markdown",
   "id": "64883b54-41b8-45c9-a7ec-e2e113bc3f51",
   "metadata": {},
   "source": [
    "### perform scaling on numerical data"
   ]
  },
  {
   "cell_type": "code",
   "execution_count": 65,
   "id": "0414f84f-83c0-4377-a336-987d76b9869b",
   "metadata": {},
   "outputs": [],
   "source": [
    "# import the standard scaler\n",
    "from sklearn.preprocessing import StandardScaler\n",
    "\n",
    "# initate the standard scaler\n",
    "ss=StandardScaler()\n",
    "\n",
    "# scaled the value present in numerical dataframe\n",
    "scaled=ss.fit_transform(df_num)\n",
    "\n",
    "# numerate the data into the dataframe\n",
    "scaled_df=pd.DataFrame(scaled,columns=df_num.columns)\n",
    "\n",
    "# reset the index\n",
    "scaled_df=scaled_df.reset_index()"
   ]
  },
  {
   "cell_type": "code",
   "execution_count": 67,
   "id": "7f1d0ad2-df8b-4173-828b-81635766ea37",
   "metadata": {},
   "outputs": [
    {
     "data": {
      "text/html": [
       "<div>\n",
       "<style scoped>\n",
       "    .dataframe tbody tr th:only-of-type {\n",
       "        vertical-align: middle;\n",
       "    }\n",
       "\n",
       "    .dataframe tbody tr th {\n",
       "        vertical-align: top;\n",
       "    }\n",
       "\n",
       "    .dataframe thead th {\n",
       "        text-align: right;\n",
       "    }\n",
       "</style>\n",
       "<table border=\"1\" class=\"dataframe\">\n",
       "  <thead>\n",
       "    <tr style=\"text-align: right;\">\n",
       "      <th></th>\n",
       "      <th>index</th>\n",
       "      <th>Price</th>\n",
       "      <th>Residential_Area</th>\n",
       "      <th>Air_Quality</th>\n",
       "      <th>Room_Number</th>\n",
       "      <th>Age</th>\n",
       "      <th>Distance</th>\n",
       "      <th>Teachers</th>\n",
       "      <th>Poor_Property</th>\n",
       "      <th>N_hospital_Beds</th>\n",
       "      <th>N_Hotel_Rooms</th>\n",
       "      <th>Rainfall</th>\n",
       "      <th>Sold</th>\n",
       "    </tr>\n",
       "  </thead>\n",
       "  <tbody>\n",
       "    <tr>\n",
       "      <th>0</th>\n",
       "      <td>0</td>\n",
       "      <td>0.154792</td>\n",
       "      <td>-1.282444</td>\n",
       "      <td>-0.137094</td>\n",
       "      <td>0.408975</td>\n",
       "      <td>-0.115644</td>\n",
       "      <td>0.172845</td>\n",
       "      <td>1.462167</td>\n",
       "      <td>-1.066368</td>\n",
       "      <td>-1.640299</td>\n",
       "      <td>-0.352111</td>\n",
       "      <td>-1.302068</td>\n",
       "      <td>-0.911527</td>\n",
       "    </tr>\n",
       "    <tr>\n",
       "      <th>1</th>\n",
       "      <td>1</td>\n",
       "      <td>-0.106592</td>\n",
       "      <td>-0.590059</td>\n",
       "      <td>-0.733195</td>\n",
       "      <td>0.189974</td>\n",
       "      <td>0.369741</td>\n",
       "      <td>0.476100</td>\n",
       "      <td>0.304963</td>\n",
       "      <td>-0.484136</td>\n",
       "      <td>-0.384875</td>\n",
       "      <td>-0.166019</td>\n",
       "      <td>0.215194</td>\n",
       "      <td>1.097060</td>\n",
       "    </tr>\n",
       "    <tr>\n",
       "      <th>2</th>\n",
       "      <td>2</td>\n",
       "      <td>1.320127</td>\n",
       "      <td>-0.590059</td>\n",
       "      <td>-0.733195</td>\n",
       "      <td>1.276446</td>\n",
       "      <td>-0.260905</td>\n",
       "      <td>0.495053</td>\n",
       "      <td>0.304963</td>\n",
       "      <td>-1.199330</td>\n",
       "      <td>-0.342847</td>\n",
       "      <td>16.710340</td>\n",
       "      <td>-0.104230</td>\n",
       "      <td>-0.911527</td>\n",
       "    </tr>\n",
       "    <tr>\n",
       "      <th>3</th>\n",
       "      <td>3</td>\n",
       "      <td>1.178544</td>\n",
       "      <td>-1.301354</td>\n",
       "      <td>-0.828226</td>\n",
       "      <td>1.010516</td>\n",
       "      <td>-0.802977</td>\n",
       "      <td>1.054179</td>\n",
       "      <td>-0.111631</td>\n",
       "      <td>-1.351886</td>\n",
       "      <td>0.927490</td>\n",
       "      <td>-0.337843</td>\n",
       "      <td>0.454762</td>\n",
       "      <td>-0.911527</td>\n",
       "    </tr>\n",
       "    <tr>\n",
       "      <th>4</th>\n",
       "      <td>4</td>\n",
       "      <td>1.483492</td>\n",
       "      <td>-1.301354</td>\n",
       "      <td>-0.828226</td>\n",
       "      <td>1.222407</td>\n",
       "      <td>-0.505369</td>\n",
       "      <td>1.030487</td>\n",
       "      <td>-0.111631</td>\n",
       "      <td>-1.017382</td>\n",
       "      <td>0.626514</td>\n",
       "      <td>-0.333593</td>\n",
       "      <td>1.253320</td>\n",
       "      <td>-0.911527</td>\n",
       "    </tr>\n",
       "  </tbody>\n",
       "</table>\n",
       "</div>"
      ],
      "text/plain": [
       "   index     Price  Residential_Area  Air_Quality  Room_Number       Age  \\\n",
       "0      0  0.154792         -1.282444    -0.137094     0.408975 -0.115644   \n",
       "1      1 -0.106592         -0.590059    -0.733195     0.189974  0.369741   \n",
       "2      2  1.320127         -0.590059    -0.733195     1.276446 -0.260905   \n",
       "3      3  1.178544         -1.301354    -0.828226     1.010516 -0.802977   \n",
       "4      4  1.483492         -1.301354    -0.828226     1.222407 -0.505369   \n",
       "\n",
       "   Distance  Teachers  Poor_Property  N_hospital_Beds  N_Hotel_Rooms  \\\n",
       "0  0.172845  1.462167      -1.066368        -1.640299      -0.352111   \n",
       "1  0.476100  0.304963      -0.484136        -0.384875      -0.166019   \n",
       "2  0.495053  0.304963      -1.199330        -0.342847      16.710340   \n",
       "3  1.054179 -0.111631      -1.351886         0.927490      -0.337843   \n",
       "4  1.030487 -0.111631      -1.017382         0.626514      -0.333593   \n",
       "\n",
       "   Rainfall      Sold  \n",
       "0 -1.302068 -0.911527  \n",
       "1  0.215194  1.097060  \n",
       "2 -0.104230 -0.911527  \n",
       "3  0.454762 -0.911527  \n",
       "4  1.253320 -0.911527  "
      ]
     },
     "execution_count": 67,
     "metadata": {},
     "output_type": "execute_result"
    }
   ],
   "source": [
    "# show thw data\n",
    "scaled_df.head()"
   ]
  },
  {
   "cell_type": "markdown",
   "id": "3f06b42b-3552-4054-bee5-136f5acc50e1",
   "metadata": {},
   "source": [
    "### Perform the concatenation operation"
   ]
  },
  {
   "cell_type": "code",
   "execution_count": 75,
   "id": "40cab7e5-998c-4f83-8040-051c094061b3",
   "metadata": {},
   "outputs": [],
   "source": [
    "# concate encoded variables and scaled variables\n",
    "df_independent=pd.concat([df_encoded,scaled_df],axis=1)"
   ]
  },
  {
   "cell_type": "code",
   "execution_count": 77,
   "id": "0c82c712-8de2-4eb9-a3e0-28f2dcea95bb",
   "metadata": {},
   "outputs": [
    {
     "data": {
      "text/html": [
       "<div>\n",
       "<style scoped>\n",
       "    .dataframe tbody tr th:only-of-type {\n",
       "        vertical-align: middle;\n",
       "    }\n",
       "\n",
       "    .dataframe tbody tr th {\n",
       "        vertical-align: top;\n",
       "    }\n",
       "\n",
       "    .dataframe thead th {\n",
       "        text-align: right;\n",
       "    }\n",
       "</style>\n",
       "<table border=\"1\" class=\"dataframe\">\n",
       "  <thead>\n",
       "    <tr style=\"text-align: right;\">\n",
       "      <th></th>\n",
       "      <th>index</th>\n",
       "      <th>Airport_NO</th>\n",
       "      <th>Airport_YES</th>\n",
       "      <th>Waterbody_Lake</th>\n",
       "      <th>Waterbody_Lake and River</th>\n",
       "      <th>Waterbody_River</th>\n",
       "      <th>Bus_Ter_YES</th>\n",
       "      <th>index</th>\n",
       "      <th>Price</th>\n",
       "      <th>Residential_Area</th>\n",
       "      <th>Air_Quality</th>\n",
       "      <th>Room_Number</th>\n",
       "      <th>Age</th>\n",
       "      <th>Distance</th>\n",
       "      <th>Teachers</th>\n",
       "      <th>Poor_Property</th>\n",
       "      <th>N_hospital_Beds</th>\n",
       "      <th>N_Hotel_Rooms</th>\n",
       "      <th>Rainfall</th>\n",
       "      <th>Sold</th>\n",
       "    </tr>\n",
       "  </thead>\n",
       "  <tbody>\n",
       "    <tr>\n",
       "      <th>0</th>\n",
       "      <td>0</td>\n",
       "      <td>False</td>\n",
       "      <td>True</td>\n",
       "      <td>False</td>\n",
       "      <td>False</td>\n",
       "      <td>True</td>\n",
       "      <td>True</td>\n",
       "      <td>0</td>\n",
       "      <td>0.154792</td>\n",
       "      <td>-1.282444</td>\n",
       "      <td>-0.137094</td>\n",
       "      <td>0.408975</td>\n",
       "      <td>-0.115644</td>\n",
       "      <td>0.172845</td>\n",
       "      <td>1.462167</td>\n",
       "      <td>-1.066368</td>\n",
       "      <td>-1.640299</td>\n",
       "      <td>-0.352111</td>\n",
       "      <td>-1.302068</td>\n",
       "      <td>-0.911527</td>\n",
       "    </tr>\n",
       "    <tr>\n",
       "      <th>1</th>\n",
       "      <td>1</td>\n",
       "      <td>True</td>\n",
       "      <td>False</td>\n",
       "      <td>True</td>\n",
       "      <td>False</td>\n",
       "      <td>False</td>\n",
       "      <td>True</td>\n",
       "      <td>1</td>\n",
       "      <td>-0.106592</td>\n",
       "      <td>-0.590059</td>\n",
       "      <td>-0.733195</td>\n",
       "      <td>0.189974</td>\n",
       "      <td>0.369741</td>\n",
       "      <td>0.476100</td>\n",
       "      <td>0.304963</td>\n",
       "      <td>-0.484136</td>\n",
       "      <td>-0.384875</td>\n",
       "      <td>-0.166019</td>\n",
       "      <td>0.215194</td>\n",
       "      <td>1.097060</td>\n",
       "    </tr>\n",
       "    <tr>\n",
       "      <th>2</th>\n",
       "      <td>2</td>\n",
       "      <td>True</td>\n",
       "      <td>False</td>\n",
       "      <td>False</td>\n",
       "      <td>False</td>\n",
       "      <td>True</td>\n",
       "      <td>True</td>\n",
       "      <td>2</td>\n",
       "      <td>1.320127</td>\n",
       "      <td>-0.590059</td>\n",
       "      <td>-0.733195</td>\n",
       "      <td>1.276446</td>\n",
       "      <td>-0.260905</td>\n",
       "      <td>0.495053</td>\n",
       "      <td>0.304963</td>\n",
       "      <td>-1.199330</td>\n",
       "      <td>-0.342847</td>\n",
       "      <td>16.710340</td>\n",
       "      <td>-0.104230</td>\n",
       "      <td>-0.911527</td>\n",
       "    </tr>\n",
       "    <tr>\n",
       "      <th>3</th>\n",
       "      <td>3</td>\n",
       "      <td>False</td>\n",
       "      <td>True</td>\n",
       "      <td>True</td>\n",
       "      <td>False</td>\n",
       "      <td>False</td>\n",
       "      <td>True</td>\n",
       "      <td>3</td>\n",
       "      <td>1.178544</td>\n",
       "      <td>-1.301354</td>\n",
       "      <td>-0.828226</td>\n",
       "      <td>1.010516</td>\n",
       "      <td>-0.802977</td>\n",
       "      <td>1.054179</td>\n",
       "      <td>-0.111631</td>\n",
       "      <td>-1.351886</td>\n",
       "      <td>0.927490</td>\n",
       "      <td>-0.337843</td>\n",
       "      <td>0.454762</td>\n",
       "      <td>-0.911527</td>\n",
       "    </tr>\n",
       "    <tr>\n",
       "      <th>4</th>\n",
       "      <td>4</td>\n",
       "      <td>True</td>\n",
       "      <td>False</td>\n",
       "      <td>True</td>\n",
       "      <td>False</td>\n",
       "      <td>False</td>\n",
       "      <td>True</td>\n",
       "      <td>4</td>\n",
       "      <td>1.483492</td>\n",
       "      <td>-1.301354</td>\n",
       "      <td>-0.828226</td>\n",
       "      <td>1.222407</td>\n",
       "      <td>-0.505369</td>\n",
       "      <td>1.030487</td>\n",
       "      <td>-0.111631</td>\n",
       "      <td>-1.017382</td>\n",
       "      <td>0.626514</td>\n",
       "      <td>-0.333593</td>\n",
       "      <td>1.253320</td>\n",
       "      <td>-0.911527</td>\n",
       "    </tr>\n",
       "  </tbody>\n",
       "</table>\n",
       "</div>"
      ],
      "text/plain": [
       "   index  Airport_NO  Airport_YES  Waterbody_Lake  Waterbody_Lake and River  \\\n",
       "0      0       False         True           False                     False   \n",
       "1      1        True        False            True                     False   \n",
       "2      2        True        False           False                     False   \n",
       "3      3       False         True            True                     False   \n",
       "4      4        True        False            True                     False   \n",
       "\n",
       "   Waterbody_River  Bus_Ter_YES  index     Price  Residential_Area  \\\n",
       "0             True         True      0  0.154792         -1.282444   \n",
       "1            False         True      1 -0.106592         -0.590059   \n",
       "2             True         True      2  1.320127         -0.590059   \n",
       "3            False         True      3  1.178544         -1.301354   \n",
       "4            False         True      4  1.483492         -1.301354   \n",
       "\n",
       "   Air_Quality  Room_Number       Age  Distance  Teachers  Poor_Property  \\\n",
       "0    -0.137094     0.408975 -0.115644  0.172845  1.462167      -1.066368   \n",
       "1    -0.733195     0.189974  0.369741  0.476100  0.304963      -0.484136   \n",
       "2    -0.733195     1.276446 -0.260905  0.495053  0.304963      -1.199330   \n",
       "3    -0.828226     1.010516 -0.802977  1.054179 -0.111631      -1.351886   \n",
       "4    -0.828226     1.222407 -0.505369  1.030487 -0.111631      -1.017382   \n",
       "\n",
       "   N_hospital_Beds  N_Hotel_Rooms  Rainfall      Sold  \n",
       "0        -1.640299      -0.352111 -1.302068 -0.911527  \n",
       "1        -0.384875      -0.166019  0.215194  1.097060  \n",
       "2        -0.342847      16.710340 -0.104230 -0.911527  \n",
       "3         0.927490      -0.337843  0.454762 -0.911527  \n",
       "4         0.626514      -0.333593  1.253320 -0.911527  "
      ]
     },
     "execution_count": 77,
     "metadata": {},
     "output_type": "execute_result"
    }
   ],
   "source": [
    "# show the data\n",
    "df_independent.head()"
   ]
  },
  {
   "cell_type": "markdown",
   "id": "d4ff4097-483f-467f-9771-4e2a15d620f3",
   "metadata": {},
   "source": [
    "## split the data for training and testing"
   ]
  },
  {
   "cell_type": "code",
   "execution_count": null,
   "id": "6c59bc01-e33c-4b3b-99e8-1fa788b6cb20",
   "metadata": {},
   "outputs": [],
   "source": []
  },
  {
   "cell_type": "code",
   "execution_count": 84,
   "id": "f6664001-228e-4a69-b36b-3c2465a8fee8",
   "metadata": {},
   "outputs": [],
   "source": [
    "# import the train,test,split\n",
    "from sklearn.model_selection import train_test_split"
   ]
  },
  {
   "cell_type": "code",
   "execution_count": 86,
   "id": "bbc763f4-16f1-40ea-805e-47fa153e2a95",
   "metadata": {},
   "outputs": [],
   "source": [
    "# split the data\n",
    "x_train,x_test,y_train,y_test=train_test_split(df_independent,df_target,test_size=0.2)"
   ]
  },
  {
   "cell_type": "code",
   "execution_count": 88,
   "id": "70b620eb-5239-4a23-8a57-746fef6dd435",
   "metadata": {},
   "outputs": [
    {
     "data": {
      "text/plain": [
       "(398, 20)"
      ]
     },
     "execution_count": 88,
     "metadata": {},
     "output_type": "execute_result"
    }
   ],
   "source": [
    "# check the size\n",
    "x_train.shape"
   ]
  },
  {
   "cell_type": "code",
   "execution_count": 90,
   "id": "a5c13e31-bb41-4a7c-a0a4-bc06f9f35196",
   "metadata": {},
   "outputs": [
    {
     "data": {
      "text/plain": [
       "(100, 20)"
      ]
     },
     "execution_count": 90,
     "metadata": {},
     "output_type": "execute_result"
    }
   ],
   "source": [
    "# check the size\n",
    "x_test.shape"
   ]
  },
  {
   "cell_type": "code",
   "execution_count": 92,
   "id": "f3f5ed77-f409-46a0-9eec-e4dfe469dca1",
   "metadata": {},
   "outputs": [
    {
     "data": {
      "text/plain": [
       "(398,)"
      ]
     },
     "execution_count": 92,
     "metadata": {},
     "output_type": "execute_result"
    }
   ],
   "source": [
    "# check the size\n",
    "y_train.shape"
   ]
  },
  {
   "cell_type": "code",
   "execution_count": 94,
   "id": "aac2d0d2-0b2f-41e9-94e4-a06e28355e50",
   "metadata": {},
   "outputs": [
    {
     "data": {
      "text/plain": [
       "(100,)"
      ]
     },
     "execution_count": 94,
     "metadata": {},
     "output_type": "execute_result"
    }
   ],
   "source": [
    "# check the size\n",
    "y_test.shape"
   ]
  },
  {
   "cell_type": "markdown",
   "id": "e1174ce4-1c55-4320-9ab6-adc63913e515",
   "metadata": {},
   "source": [
    "### Apply linear regression"
   ]
  },
  {
   "cell_type": "code",
   "execution_count": null,
   "id": "0cac05f6-049e-4a5d-ab9d-3dd3d291f0ac",
   "metadata": {},
   "outputs": [],
   "source": [
    "# import the model"
   ]
  },
  {
   "cell_type": "code",
   "execution_count": 96,
   "id": "f24eb1a2-2023-47ea-9156-4d8e39996f4a",
   "metadata": {},
   "outputs": [
    {
     "ename": "NameError",
     "evalue": "name 'mean_squared_error' is not defined",
     "output_type": "error",
     "traceback": [
      "\u001b[1;31m---------------------------------------------------------------------------\u001b[0m",
      "\u001b[1;31mNameError\u001b[0m                                 Traceback (most recent call last)",
      "Cell \u001b[1;32mIn[96], line 2\u001b[0m\n\u001b[0;32m      1\u001b[0m \u001b[38;5;66;03m# evaluate the model\u001b[39;00m\n\u001b[1;32m----> 2\u001b[0m mean_squared_error(predicted,y_text)\n",
      "\u001b[1;31mNameError\u001b[0m: name 'mean_squared_error' is not defined"
     ]
    }
   ],
   "source": [
    "# evaluate the model\n",
    "mean_squared_error(predicted,y_text)"
   ]
  }
 ],
 "metadata": {
  "kernelspec": {
   "display_name": "Python 3 (ipykernel)",
   "language": "python",
   "name": "python3"
  },
  "language_info": {
   "codemirror_mode": {
    "name": "ipython",
    "version": 3
   },
   "file_extension": ".py",
   "mimetype": "text/x-python",
   "name": "python",
   "nbconvert_exporter": "python",
   "pygments_lexer": "ipython3",
   "version": "3.11.7"
  }
 },
 "nbformat": 4,
 "nbformat_minor": 5
}
